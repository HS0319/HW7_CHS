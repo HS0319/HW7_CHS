{
 "cells": [
  {
   "cell_type": "code",
   "execution_count": 11,
   "id": "4ebcd8a1",
   "metadata": {},
   "outputs": [
    {
     "name": "stdout",
     "output_type": "stream",
     "text": [
      "doc1 = 0.58\n",
      "doc2 = 0.87\n",
      "doc3 = 0.67\n"
     ]
    }
   ],
   "source": [
    "import numpy as np\n",
    "\n",
    "docs = ([[1,1,0,1,0,1],[1,1,1,0,1,0],[1,1,0,1,0,0]])\n",
    "query = ([1,1,0,0,1,0])\n",
    "list1 = list()\n",
    "\n",
    "    \n",
    "\n",
    "\n",
    "\n",
    "for i in range(3):\n",
    "    cosine_similarity = np.dot(docs[i], query) / (np.linalg.norm(docs[i]) * np.linalg.norm(query))\n",
    "    list1.append(cosine_similarity)\n",
    "    print(\"doc{0:d} = {1:.2f}\".format(i+1 ,cosine_similarity))\n"
   ]
  },
  {
   "cell_type": "code",
   "execution_count": null,
   "id": "f1635e23",
   "metadata": {},
   "outputs": [],
   "source": []
  }
 ],
 "metadata": {
  "kernelspec": {
   "display_name": "Python 3 (ipykernel)",
   "language": "python",
   "name": "python3"
  },
  "language_info": {
   "codemirror_mode": {
    "name": "ipython",
    "version": 3
   },
   "file_extension": ".py",
   "mimetype": "text/x-python",
   "name": "python",
   "nbconvert_exporter": "python",
   "pygments_lexer": "ipython3",
   "version": "3.9.13"
  }
 },
 "nbformat": 4,
 "nbformat_minor": 5
}
