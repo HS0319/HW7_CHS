{
 "cells": [
  {
   "cell_type": "code",
   "execution_count": 1,
   "id": "e3c6f502",
   "metadata": {},
   "outputs": [
    {
     "name": "stdout",
     "output_type": "stream",
     "text": [
      "Eigenvalues: [-0.37228132  5.37228132]\n",
      "Eigenvectors:\n",
      " [[-0.82456484 -0.41597356]\n",
      " [ 0.56576746 -0.90937671]]\n",
      "Determinant:  -2\n",
      "Cross product:  [-3  6 -3]\n",
      "Solution:\n",
      " [[-1.]\n",
      " [-4.]\n",
      " [ 3.]]\n"
     ]
    }
   ],
   "source": [
    "import numpy as np\n",
    "\n",
    "if __name__ == \"__main__\":\n",
    "    arr = np.array([[1,2],[3,4]])\n",
    "    vec1 = [1,2,3]\n",
    "    vec2 = [4,5,6]\n",
    "    a = np.array([[1,2,-2],[2,1,-5],[1,-4,1]])\n",
    "    b = np.array([[-15], [-21], [18]])\n",
    "    # w: eigenvalue, v: eigenvector\n",
    "    w,v = np.linalg.eig(arr)\n",
    "    arr_det = int(np.linalg.det(arr))\n",
    "    cross_vec = np.cross(vec1,vec2)\n",
    "    x = np.linalg.inv(a).dot(b)\n",
    "\n",
    "\n",
    "    print(\"Eigenvalues:\",w)\n",
    "    print(\"Eigenvectors:\\n\",v)\n",
    "    print(\"Determinant: \", arr_det)\n",
    "    print(\"Cross product: \", cross_vec)\n",
    "    print(\"Solution:\\n\", x)\n",
    "\n",
    "\n",
    "\n",
    "\n"
   ]
  },
  {
   "cell_type": "code",
   "execution_count": null,
   "id": "bad1d76d",
   "metadata": {},
   "outputs": [],
   "source": []
  }
 ],
 "metadata": {
  "kernelspec": {
   "display_name": "Python 3 (ipykernel)",
   "language": "python",
   "name": "python3"
  },
  "language_info": {
   "codemirror_mode": {
    "name": "ipython",
    "version": 3
   },
   "file_extension": ".py",
   "mimetype": "text/x-python",
   "name": "python",
   "nbconvert_exporter": "python",
   "pygments_lexer": "ipython3",
   "version": "3.9.13"
  }
 },
 "nbformat": 4,
 "nbformat_minor": 5
}
